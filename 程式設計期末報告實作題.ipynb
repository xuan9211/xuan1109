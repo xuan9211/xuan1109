{
  "nbformat": 4,
  "nbformat_minor": 0,
  "metadata": {
    "colab": {
      "provenance": [],
      "include_colab_link": true
    },
    "kernelspec": {
      "name": "python3",
      "display_name": "Python 3"
    },
    "language_info": {
      "name": "python"
    }
  },
  "cells": [
    {
      "cell_type": "markdown",
      "metadata": {
        "id": "view-in-github",
        "colab_type": "text"
      },
      "source": [
        "<a href=\"https://colab.research.google.com/github/xuan9211/xuan1109/blob/main/%E7%A8%8B%E5%BC%8F%E8%A8%AD%E8%A8%88%E6%9C%9F%E6%9C%AB%E5%A0%B1%E5%91%8A%E5%AF%A6%E4%BD%9C%E9%A1%8C.ipynb\" target=\"_parent\"><img src=\"https://colab.research.google.com/assets/colab-badge.svg\" alt=\"Open In Colab\"/></a>"
      ]
    },
    {
      "cell_type": "code",
      "execution_count": 1,
      "metadata": {
        "colab": {
          "base_uri": "https://localhost:8080/"
        },
        "id": "fxlsoQE9po-L",
        "outputId": "002b0ef4-74ad-4c99-8faf-d69a37b5e8cc"
      },
      "outputs": [
        {
          "output_type": "stream",
          "name": "stdout",
          "text": [
            "遊歷順序： A -> E -> D -> C -> B -> F -> G\n",
            "總旅費： 49996.95689598386 元\n"
          ]
        }
      ],
      "source": [
        "import math\n",
        "\n",
        "class City:\n",
        "    def __init__(self, name, coordinates, accommodation_cost):\n",
        "        self.name = name\n",
        "        self.coordinates = coordinates\n",
        "        self.accommodation_cost = accommodation_cost\n",
        "\n",
        "def calculate_discounted_cost(city, previous_city):\n",
        "    discount = 0.8  # 80% 折扣\n",
        "    if previous_city and previous_city.name in [\"C\", \"G\"]:\n",
        "        return math.ceil(city.accommodation_cost * discount)\n",
        "    elif previous_city and previous_city.name in [\"D\", \"E\"]:\n",
        "        return math.ceil(city.accommodation_cost * discount)\n",
        "    elif previous_city and previous_city.name in [\"F\"]:\n",
        "        return math.ceil(city.accommodation_cost * discount)\n",
        "    else:\n",
        "        return city.accommodation_cost\n",
        "\n",
        "# 建立城市物件\n",
        "A = City(\"A\", (0, 0), 2000)\n",
        "B = City(\"B\", (0, 120), 2400)\n",
        "C = City(\"C\", (30, 100), 2400)\n",
        "D = City(\"D\", (80, 0), 1600)\n",
        "E = City(\"E\", (45, 10), 1500)\n",
        "F = City(\"F\", (90, 160), 2200)\n",
        "G = City(\"G\", (120, 200), 1200)\n",
        "\n",
        "cities = [A, B, C, D, E, F, G]  # 所有城市的清單\n",
        "\n",
        "def find_cheapest_route(start_city, cities):\n",
        "    current_city = start_city\n",
        "    visited_cities = [current_city]\n",
        "    total_cost = 0\n",
        "\n",
        "    while len(visited_cities) < len(cities):\n",
        "        min_distance = float(\"inf\")\n",
        "        next_city = None\n",
        "\n",
        "        for city in cities:\n",
        "            if city not in visited_cities:\n",
        "                distance = math.sqrt((current_city.coordinates[0] - city.coordinates[0])**2 +\n",
        "                                     (current_city.coordinates[1] - city.coordinates[1])**2)\n",
        "\n",
        "                if distance < min_distance:\n",
        "                    min_distance = distance\n",
        "                    next_city = city\n",
        "\n",
        "        total_cost += min_distance * 100  # 油錢每公里10元\n",
        "        total_cost += calculate_discounted_cost(next_city, current_city)\n",
        "        current_city = next_city\n",
        "        visited_cities.append(current_city)\n",
        "\n",
        "    total_cost += math.sqrt((current_city.coordinates[0] - start_city.coordinates[0])**2 +\n",
        "                            (current_city.coordinates[1] - start_city.coordinates[1])**2) * 10\n",
        "\n",
        "    return visited_cities, total_cost\n",
        "\n",
        "# 主程式\n",
        "start_city = A  # 選擇出發城市\n",
        "route, cost = find_cheapest_route(start_city, cities)\n",
        "\n",
        "print(\"遊歷順序：\", ' -> '.join([city.name for city in route]))\n",
        "print(\"總旅費：\", cost, \"元\")\n"
      ]
    }
  ]
}